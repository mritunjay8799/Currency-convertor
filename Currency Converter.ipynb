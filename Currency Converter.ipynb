{
 "cells": [
  {
   "cell_type": "markdown",
   "metadata": {},
   "source": [
    "<h1><b> Currency Converter - Project</b></h1>"
   ]
  },
  {
   "cell_type": "code",
   "execution_count": 1,
   "metadata": {},
   "outputs": [],
   "source": [
    "# We can use the data provided from API (http://exchangeratesapi.io/) to create a simple currency convertor"
   ]
  },
  {
   "cell_type": "code",
   "execution_count": 5,
   "metadata": {},
   "outputs": [],
   "source": [
    "# loading the packages\n",
    "# 'requests' provides us with the capabilities of sending an HTTP request to a server\n",
    "import requests\n",
    "import json"
   ]
  },
  {
   "cell_type": "code",
   "execution_count": 18,
   "metadata": {},
   "outputs": [
    {
     "name": "stdout",
     "output_type": "stream",
     "text": [
      "Enter the date (in the format 'yyyy-mm-dd' or 'latest'):2010-09-09\n",
      "Enter Base Currency:USD\n",
      "Enter the Target Currency:INR\n",
      "How much USD do you want to convert: 45\n",
      "<Response [200]>\n",
      "\n",
      "45.0 USD is equal to 2091.2489185995 INR, based upon exchange rates on 2010-09-09\n"
     ]
    }
   ],
   "source": [
    "# Gathering input parameters from the user\n",
    "date = input(\"Enter the date (in the format 'yyyy-mm-dd' or 'latest'): \" )\n",
    "base = input(\"Enter Base Currency: \" )\n",
    "target = input(\"Enter the Target Currency: \" )\n",
    "quantity = float(input(\"How much {} do you want to convert: \".format(base)))\n",
    "\n",
    "# Base URL\n",
    "base_url = \"https://api.exchangeratesapi.io\"\n",
    "\n",
    "# Constructing the URL based on the user parameters and sending a request to the server\n",
    "url = base_url + \"/\"+date+ \"?base=\" + base + \"&symbols=\" + target\n",
    "response = requests.get(url)\n",
    "\n",
    "# Displaying the error message, if something went wrong\n",
    "if(response.ok is False):\n",
    "    print(\"\\nError {}:\".format(response.status_code))\n",
    "\n",
    "else:\n",
    "    data = response.json()\n",
    "    rate = data['rates'][target]\n",
    "    \n",
    "    result = quantity*rate\n",
    "    \n",
    "    print(\"\\n{0} {1} is equal to {2} {3}, based upon exchange rates on {4}\".format(quantity,base,result,target,data['date']))\n"
   ]
  },
  {
   "cell_type": "code",
   "execution_count": null,
   "metadata": {},
   "outputs": [],
   "source": []
  }
 ],
 "metadata": {
  "kernelspec": {
   "display_name": "Python 3",
   "language": "python",
   "name": "python3"
  },
  "language_info": {
   "codemirror_mode": {
    "name": "ipython",
    "version": 3
   },
   "file_extension": ".py",
   "mimetype": "text/x-python",
   "name": "python",
   "nbconvert_exporter": "python",
   "pygments_lexer": "ipython3",
   "version": "3.7.3"
  }
 },
 "nbformat": 4,
 "nbformat_minor": 4
}
